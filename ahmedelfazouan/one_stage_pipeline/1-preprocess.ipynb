{
 "cells": [
  {
   "cell_type": "code",
   "execution_count": 1,
   "id": "77140449",
   "metadata": {
    "_cell_guid": "b1076dfc-b9ad-4769-8c92-a6c4dae69d19",
    "_uuid": "8f2839f25d086af736a60e9eeb907d3b93b6e0e5",
    "execution": {
     "iopub.execute_input": "2024-09-06T15:35:04.360757Z",
     "iopub.status.busy": "2024-09-06T15:35:04.360276Z",
     "iopub.status.idle": "2024-09-06T15:35:04.377019Z",
     "shell.execute_reply": "2024-09-06T15:35:04.375541Z"
    },
    "papermill": {
     "duration": 0.027064,
     "end_time": "2024-09-06T15:35:04.380105",
     "exception": false,
     "start_time": "2024-09-06T15:35:04.353041",
     "status": "completed"
    },
    "tags": []
   },
   "outputs": [],
   "source": [
    "INP_DIR = '/kaggle/input/rsna-2024-lumbar-spine-degenerative-classification'\n",
    "conditions = ['spinal_canal_stenosis', 'left_neural_foraminal_narrowing', 'right_neural_foraminal_narrowing',\n",
    "              'left_subarticular_stenosis', 'right_subarticular_stenosis']\n",
    "levels = ['l1_l2', 'l2_l3', 'l3_l4', 'l4_l5', 'l5_s1']\n",
    "severity = ['Normal/Mild', 'Moderate', 'Severe']\n",
    "TARGETS = [c+'_'+l+'_'+s for c in conditions for l in levels for s in severity]\n",
    "SIZE = 256"
   ]
  },
  {
   "cell_type": "code",
   "execution_count": 2,
   "id": "6bf4749f",
   "metadata": {
    "execution": {
     "iopub.execute_input": "2024-09-06T15:35:04.392603Z",
     "iopub.status.busy": "2024-09-06T15:35:04.391612Z",
     "iopub.status.idle": "2024-09-06T15:35:05.478384Z",
     "shell.execute_reply": "2024-09-06T15:35:05.476989Z"
    },
    "papermill": {
     "duration": 1.096308,
     "end_time": "2024-09-06T15:35:05.481434",
     "exception": false,
     "start_time": "2024-09-06T15:35:04.385126",
     "status": "completed"
    },
    "tags": []
   },
   "outputs": [],
   "source": [
    "import pandas as pd\n",
    "from glob import glob\n",
    "\n",
    "series_description = 'Axial T2'"
   ]
  },
  {
   "cell_type": "code",
   "execution_count": 5,
   "id": "a24444b8",
   "metadata": {
    "execution": {
     "iopub.execute_input": "2024-09-06T15:35:05.568762Z",
     "iopub.status.busy": "2024-09-06T15:35:05.568212Z",
     "iopub.status.idle": "2024-09-06T15:35:05.632171Z",
     "shell.execute_reply": "2024-09-06T15:35:05.630807Z"
    },
    "papermill": {
     "duration": 0.073334,
     "end_time": "2024-09-06T15:35:05.635300",
     "exception": false,
     "start_time": "2024-09-06T15:35:05.561966",
     "status": "completed"
    },
    "tags": []
   },
   "outputs": [
    {
     "data": {
      "text/html": [
       "<div>\n",
       "<style scoped>\n",
       "    .dataframe tbody tr th:only-of-type {\n",
       "        vertical-align: middle;\n",
       "    }\n",
       "\n",
       "    .dataframe tbody tr th {\n",
       "        vertical-align: top;\n",
       "    }\n",
       "\n",
       "    .dataframe thead th {\n",
       "        text-align: right;\n",
       "    }\n",
       "</style>\n",
       "<table border=\"1\" class=\"dataframe\">\n",
       "  <thead>\n",
       "    <tr style=\"text-align: right;\">\n",
       "      <th></th>\n",
       "      <th>study_id</th>\n",
       "      <th>series_id</th>\n",
       "      <th>series_description</th>\n",
       "    </tr>\n",
       "  </thead>\n",
       "  <tbody>\n",
       "    <tr>\n",
       "      <th>2</th>\n",
       "      <td>4003253</td>\n",
       "      <td>2448190387</td>\n",
       "      <td>Axial T2</td>\n",
       "    </tr>\n",
       "    <tr>\n",
       "      <th>3</th>\n",
       "      <td>4646740</td>\n",
       "      <td>3201256954</td>\n",
       "      <td>Axial T2</td>\n",
       "    </tr>\n",
       "    <tr>\n",
       "      <th>7</th>\n",
       "      <td>7143189</td>\n",
       "      <td>1951927562</td>\n",
       "      <td>Axial T2</td>\n",
       "    </tr>\n",
       "    <tr>\n",
       "      <th>11</th>\n",
       "      <td>8785691</td>\n",
       "      <td>2406919186</td>\n",
       "      <td>Axial T2</td>\n",
       "    </tr>\n",
       "    <tr>\n",
       "      <th>12</th>\n",
       "      <td>10728036</td>\n",
       "      <td>142859125</td>\n",
       "      <td>Axial T2</td>\n",
       "    </tr>\n",
       "    <tr>\n",
       "      <th>...</th>\n",
       "      <td>...</td>\n",
       "      <td>...</td>\n",
       "      <td>...</td>\n",
       "    </tr>\n",
       "    <tr>\n",
       "      <th>6279</th>\n",
       "      <td>4282019580</td>\n",
       "      <td>121051321</td>\n",
       "      <td>Axial T2</td>\n",
       "    </tr>\n",
       "    <tr>\n",
       "      <th>6284</th>\n",
       "      <td>4283570761</td>\n",
       "      <td>3321662903</td>\n",
       "      <td>Axial T2</td>\n",
       "    </tr>\n",
       "    <tr>\n",
       "      <th>6287</th>\n",
       "      <td>4284048608</td>\n",
       "      <td>3891595425</td>\n",
       "      <td>Axial T2</td>\n",
       "    </tr>\n",
       "    <tr>\n",
       "      <th>6290</th>\n",
       "      <td>4287160193</td>\n",
       "      <td>1820446240</td>\n",
       "      <td>Axial T2</td>\n",
       "    </tr>\n",
       "    <tr>\n",
       "      <th>6292</th>\n",
       "      <td>4290709089</td>\n",
       "      <td>3390218084</td>\n",
       "      <td>Axial T2</td>\n",
       "    </tr>\n",
       "  </tbody>\n",
       "</table>\n",
       "<p>2340 rows × 3 columns</p>\n",
       "</div>"
      ],
      "text/plain": [
       "        study_id   series_id series_description\n",
       "2        4003253  2448190387           Axial T2\n",
       "3        4646740  3201256954           Axial T2\n",
       "7        7143189  1951927562           Axial T2\n",
       "11       8785691  2406919186           Axial T2\n",
       "12      10728036   142859125           Axial T2\n",
       "...          ...         ...                ...\n",
       "6279  4282019580   121051321           Axial T2\n",
       "6284  4283570761  3321662903           Axial T2\n",
       "6287  4284048608  3891595425           Axial T2\n",
       "6290  4287160193  1820446240           Axial T2\n",
       "6292  4290709089  3390218084           Axial T2\n",
       "\n",
       "[2340 rows x 3 columns]"
      ]
     },
     "execution_count": 5,
     "metadata": {},
     "output_type": "execute_result"
    }
   ],
   "source": [
    "df = pd.read_csv('/kaggle/input/rsna-2024-lumbar-spine-degenerative-classification/train_series_descriptions.csv')\n",
    "df = df[df['series_description'] == series_description]\n",
    "df"
   ]
  },
  {
   "cell_type": "code",
   "execution_count": 6,
   "id": "94c385c5",
   "metadata": {
    "execution": {
     "iopub.execute_input": "2024-09-06T15:35:05.648013Z",
     "iopub.status.busy": "2024-09-06T15:35:05.647511Z",
     "iopub.status.idle": "2024-09-06T15:35:11.238063Z",
     "shell.execute_reply": "2024-09-06T15:35:11.236377Z"
    },
    "papermill": {
     "duration": 5.601815,
     "end_time": "2024-09-06T15:35:11.242257",
     "exception": false,
     "start_time": "2024-09-06T15:35:05.640442",
     "status": "completed"
    },
    "tags": []
   },
   "outputs": [],
   "source": [
    "import os\n",
    "import sys\n",
    "import joblib\n",
    "\n",
    "\n",
    "import numpy as np\n",
    "import pandas as pd\n",
    "from glob import glob\n",
    "# import dicomsdl\n",
    "import torch\n",
    "import torch.nn as nn\n",
    "import torch.nn.functional as F\n",
    "import pydicom\n",
    "\n",
    "from tqdm import tqdm\n",
    "\n",
    "import cv2\n",
    "from timeit import default_timer as timer\n",
    "\n",
    "\n",
    "\n",
    "def dicomsdl_to_numpy_image(ds, index=0):\n",
    "    info = ds.getPixelDataInfo()\n",
    "    if info['SamplesPerPixel'] != 1:\n",
    "        raise RuntimeError('SamplesPerPixel != 1')  # number of separate planes in this image\n",
    "    shape = [info['Rows'], info['Cols']]\n",
    "    dtype = info['dtype']\n",
    "    outarr = np.empty(shape, dtype=dtype)\n",
    "    ds.copyFrameData(index, outarr)\n",
    "    return outarr\n",
    "\n",
    "\n",
    "def convert_to_8bit(x):\n",
    "    lower, upper = np.percentile(x, (1, 99))\n",
    "    x = np.clip(x, lower, upper)\n",
    "    x = x - np.min(x)\n",
    "    x = x / np.max(x) \n",
    "    return (x * 255).astype(\"uint8\")\n",
    "\n",
    "\n",
    "def load_dicomsdl_dir(series_id, dcm_dir, slice_range=None):\n",
    "    dcm_file = sorted(glob(f'{dcm_dir}/*.dcm'), key=lambda x: int(x.split('/')[-1].split('.')[0]))\n",
    "    dicoms = [pydicom.dcmread(f) for f in dcm_file]\n",
    "    plane = 'axial'\n",
    "    plane = {\"sagittal\": 0, \"coronal\": 1, \"axial\": 2}[plane.lower()]\n",
    "    positions = np.asarray([float(d.ImagePositionPatient[plane]) for d in dicoms])\n",
    "    reverse_sort = False\n",
    "    idx = np.argsort(-positions if reverse_sort else positions)\n",
    "    ipp = np.asarray([d.ImagePositionPatient for d in dicoms]).astype(\"float\")[idx]\n",
    "    image = [d.pixel_array.astype(\"float32\") for d in dicoms]\n",
    "    x0 = np.mean([im.shape[0] for im in image])\n",
    "    y0 = np.mean([im.shape[1] for im in image])\n",
    "    image = np.stack([cv2.resize(im, (SIZE, SIZE),interpolation=cv2.INTER_CUBIC) for im in image])\n",
    "    image = image[idx]\n",
    "    image = convert_to_8bit(image)\n",
    "    return image, x0, y0\n",
    "\n",
    "def prepare_images(study_id, series_id, to = 'preprocessed'):\n",
    "    if not os.path.isdir(to):\n",
    "        os.mkdir(to)\n",
    "    dcm_dir = f'{INP_DIR}/train_images/{study_id}/{series_id}'\n",
    "    image, x, y = load_dicomsdl_dir(series_id, dcm_dir, slice_range=None)\n",
    "    np.save(f'{to}/{study_id}_{series_id}.npy', image)\n",
    "    return x, y"
   ]
  },
  {
   "cell_type": "code",
   "execution_count": 7,
   "id": "29f7b765",
   "metadata": {
    "execution": {
     "iopub.execute_input": "2024-09-06T15:35:11.257090Z",
     "iopub.status.busy": "2024-09-06T15:35:11.256452Z",
     "iopub.status.idle": "2024-09-06T16:06:41.036180Z",
     "shell.execute_reply": "2024-09-06T16:06:41.034586Z"
    },
    "papermill": {
     "duration": 1889.793532,
     "end_time": "2024-09-06T16:06:41.042011",
     "exception": false,
     "start_time": "2024-09-06T15:35:11.248479",
     "status": "completed"
    },
    "tags": []
   },
   "outputs": [
    {
     "name": "stdout",
     "output_type": "stream",
     "text": [
      "50\n",
      "100\n",
      "150\n",
      "200\n",
      "250\n",
      "300\n",
      "350\n",
      "400\n",
      "450\n",
      "500\n",
      "550\n",
      "600\n",
      "650\n",
      "700\n",
      "750\n",
      "800\n",
      "850\n",
      "900\n",
      "950\n",
      "1000\n",
      "1050\n",
      "1100\n",
      "1150\n",
      "1200\n",
      "1250\n",
      "1300\n",
      "1350\n",
      "1400\n",
      "1450\n",
      "1500\n",
      "1550\n",
      "1600\n",
      "1650\n",
      "1700\n",
      "1750\n",
      "1800\n",
      "1850\n",
      "1900\n",
      "1950\n",
      "2000\n",
      "2050\n",
      "2100\n",
      "2150\n",
      "2200\n",
      "2250\n",
      "2300\n"
     ]
    },
    {
     "data": {
      "text/plain": [
       "['orig_size.pkl']"
      ]
     },
     "execution_count": 7,
     "metadata": {},
     "output_type": "execute_result"
    }
   ],
   "source": [
    "to = 'preprocessed'\n",
    "orig_size = {}\n",
    "nbr_processed = 0\n",
    "for ind, row in df[['study_id', 'series_id']].drop_duplicates().iterrows():\n",
    "    orig_size[row.series_id] = prepare_images(row.study_id, row.series_id, to)\n",
    "    nbr_processed += 1\n",
    "    if nbr_processed % 50 == 0:\n",
    "        print(nbr_processed)\n",
    "import joblib\n",
    "joblib.dump(orig_size, 'orig_size.pkl')"
   ]
  },
  {
   "cell_type": "code",
   "execution_count": null,
   "id": "50f0dff0",
   "metadata": {
    "papermill": {
     "duration": 0.009449,
     "end_time": "2024-09-06T16:06:41.062927",
     "exception": false,
     "start_time": "2024-09-06T16:06:41.053478",
     "status": "completed"
    },
    "tags": []
   },
   "outputs": [],
   "source": []
  }
 ],
 "metadata": {
  "kaggle": {
   "accelerator": "none",
   "dataSources": [
    {
     "databundleVersionId": 8561470,
     "sourceId": 71549,
     "sourceType": "competition"
    },
    {
     "sourceId": 189188675,
     "sourceType": "kernelVersion"
    }
   ],
   "dockerImageVersionId": 30746,
   "isGpuEnabled": false,
   "isInternetEnabled": true,
   "language": "python",
   "sourceType": "notebook"
  },
  "kernelspec": {
   "display_name": "Python 3 (ipykernel)",
   "language": "python",
   "name": "python3"
  },
  "language_info": {
   "codemirror_mode": {
    "name": "ipython",
    "version": 3
   },
   "file_extension": ".py",
   "mimetype": "text/x-python",
   "name": "python",
   "nbconvert_exporter": "python",
   "pygments_lexer": "ipython3",
   "version": "3.7.0"
  },
  "papermill": {
   "default_parameters": {},
   "duration": 1902.509348,
   "end_time": "2024-09-06T16:06:42.612598",
   "environment_variables": {},
   "exception": null,
   "input_path": "__notebook__.ipynb",
   "output_path": "__notebook__.ipynb",
   "parameters": {},
   "start_time": "2024-09-06T15:35:00.103250",
   "version": "2.5.0"
  }
 },
 "nbformat": 4,
 "nbformat_minor": 5
}
